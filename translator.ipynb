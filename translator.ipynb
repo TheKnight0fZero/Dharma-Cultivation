{
 "cells": [
  {
   "cell_type": "code",
   "execution_count": null,
   "id": "590e0de0",
   "metadata": {
    "vscode": {
     "languageId": "plaintext"
    }
   },
   "outputs": [],
   "source": [
    "# Import the core functions from your existing translator\n",
    "# We'll extract the logic without the GUI\n",
    "\n",
    "import pytesseract\n",
    "from deep_translator import GoogleTranslator\n",
    "from PIL import Image\n",
    "\n",
    "# Read your existing code to understand it\n",
    "with open('simple_translator.py', 'r') as f:\n",
    "    existing_code = f.read()\n",
    "    print(\"✅ Found your simple_translator.py!\")\n",
    "    print(f\"📄 Code is {len(existing_code)} characters long\")\n",
    "    \n",
    "# Let's see what you built\n",
    "print(\"\\n🔍 Your translator includes:\")\n",
    "if 'SimpleTranslator' in existing_code:\n",
    "    print(\"  - SimpleTranslator class\")\n",
    "if 'extract_text' in existing_code or 'pytesseract' in existing_code:\n",
    "    print(\"  - OCR text extraction\")\n",
    "if 'GoogleTranslator' in existing_code:\n",
    "    print(\"  - Google translation\")"
   ]
  },
  {
   "cell_type": "code",
   "execution_count": null,
   "id": "e267284f",
   "metadata": {
    "vscode": {
     "languageId": "plaintext"
    }
   },
   "outputs": [],
   "source": [
    "# Extract the core translation logic from your code (no GUI needed)\n",
    "\n",
    "def process_image(image_path):\n",
    "    \"\"\"\n",
    "    Core logic from your simple_translator.py without the GUI\n",
    "    This is what your app does behind the scenes!\n",
    "    \"\"\"\n",
    "    \n",
    "    print(f\"📸 Processing: {image_path}\")\n",
    "    \n",
    "    try:\n",
    "        # Extract text with OCR (from your code)\n",
    "        extracted_text = pytesseract.image_to_string(image_path)\n",
    "        \n",
    "        if not extracted_text.strip():\n",
    "            return {\n",
    "                'status': 'error',\n",
    "                'message': 'No text found in image'\n",
    "            }\n",
    "        \n",
    "        print(f\"✅ Extracted {len(extracted_text)} characters\")\n",
    "        \n",
    "        # Translate text (from your code)\n",
    "        translator = GoogleTranslator(source='auto', target='en')\n",
    "        translation = translator.translate(extracted_text)\n",
    "        \n",
    "        # Return results (like your GUI shows)\n",
    "        return {\n",
    "            'status': 'success',\n",
    "            'original': extracted_text,\n",
    "            'translated': translation\n",
    "        }\n",
    "        \n",
    "    except Exception as e:\n",
    "        return {\n",
    "            'status': 'error',\n",
    "            'message': f\"Error: {str(e)}\"\n",
    "        }\n",
    "\n",
    "print(\"✅ Your translator logic is ready (without GUI)!\")"
   ]
  },
  {
   "cell_type": "code",
   "execution_count": null,
   "id": "1bcf15af",
   "metadata": {
    "vscode": {
     "languageId": "plaintext"
    }
   },
   "outputs": [],
   "source": [
    "# Test with the same test image you used locally!\n",
    "# First, let's create a simple test image with text\n",
    "\n",
    "from PIL import Image, ImageDraw, ImageFont\n",
    "import os\n",
    "\n",
    "# Create a test image with text\n",
    "img = Image.new('RGB', (400, 100), color='white')\n",
    "draw = ImageDraw.Draw(img)\n",
    "\n",
    "# Add some text\n",
    "text = \"Hello World\\nThis is a test\"\n",
    "draw.text((10, 10), text, fill='black')\n",
    "\n",
    "# Save it\n",
    "img.save('test_image.png')\n",
    "print(\"✅ Created test_image.png\")\n",
    "\n",
    "# Now test your translator on it!\n",
    "result = process_image('test_image.png')\n",
    "\n",
    "if result['status'] == 'success':\n",
    "    print(\"\\n\" + \"=\"*50)\n",
    "    print(\"ORIGINAL TEXT:\")\n",
    "    print(result['original'])\n",
    "    print(\"\\n\" + \"=\"*50)\n",
    "    print(\"TRANSLATED TEXT:\")\n",
    "    print(result['translated'])\n",
    "else:\n",
    "    print(f\"❌ {result['message']}\")"
   ]
  },
  {
   "cell_type": "code",
   "execution_count": null,
   "id": "eec1047e",
   "metadata": {
    "vscode": {
     "languageId": "plaintext"
    }
   },
   "outputs": [],
   "source": [
    "# Now let's test Chinese - with proper language support!\n",
    "\n",
    "def process_chinese_image(image_path):\n",
    "    \"\"\"\n",
    "    Enhanced version for Chinese text\n",
    "    \"\"\"\n",
    "    print(f\"🇨🇳 Processing Chinese text from: {image_path}\")\n",
    "    \n",
    "    try:\n",
    "        # Use Chinese language pack (now installed in Codespaces!)\n",
    "        extracted_text = pytesseract.image_to_string(image_path, lang='chi_sim+eng')\n",
    "        \n",
    "        if not extracted_text.strip():\n",
    "            return \"No text found\"\n",
    "        \n",
    "        print(f\"✅ Extracted: {extracted_text[:100]}...\")\n",
    "        \n",
    "        # Translate\n",
    "        translator = GoogleTranslator(source='auto', target='en')\n",
    "        translation = translator.translate(extracted_text)\n",
    "        \n",
    "        return {\n",
    "            'original': extracted_text,\n",
    "            'translated': translation\n",
    "        }\n",
    "        \n",
    "    except Exception as e:\n",
    "        return f\"Error: {e}\"\n",
    "\n",
    "# Create a test with Chinese text\n",
    "# We'll download a sample Chinese image\n",
    "import urllib.request\n",
    "\n",
    "# Download a Chinese text image\n",
    "url = \"https://upload.wikimedia.org/wikipedia/commons/thumb/f/f6/Chinese_character_sample.png/200px-Chinese_character_sample.png\"\n",
    "urllib.request.urlretrieve(url, \"chinese_test.png\")\n",
    "\n",
    "# Test it!\n",
    "result = process_chinese_image(\"chinese_test.png\")\n",
    "print(\"Chinese OCR Result:\", result)"
   ]
  }
 ],
 "metadata": {
  "language_info": {
   "name": "python"
  }
 },
 "nbformat": 4,
 "nbformat_minor": 5
}
